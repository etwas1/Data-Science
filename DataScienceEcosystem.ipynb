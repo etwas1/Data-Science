{
 "cells": [
  {
   "cell_type": "markdown",
   "id": "9dbaccfd-7c02-4656-be3c-892de5b6d5d3",
   "metadata": {},
   "source": [
    "# Data Science Ecosystem"
   ]
  },
  {
   "cell_type": "markdown",
   "id": "3a1a63ab-6bbd-4475-acb5-b78a3f873715",
   "metadata": {},
   "source": [
    "This notebook is the final assignment of Data Science Tools."
   ]
  },
  {
   "cell_type": "markdown",
   "id": "b4714442-f9bb-43bc-95b4-cb697043952e",
   "metadata": {},
   "source": [
    "**Objectives:**\n",
    "- Arithmetic expression examples\n",
    "- List popular languages for Data Science\n",
    "- List some development environments open source tools used in data science"
   ]
  },
  {
   "cell_type": "markdown",
   "id": "f656d74b-3461-4b2d-8eb5-90fc9c9899bf",
   "metadata": {},
   "source": [
    "Some of the popular languages that Data Scientists use are:\n",
    "1. Python\n",
    "2. R\n",
    "3. SQL\n",
    "4. Julia\n",
    "5. Scala"
   ]
  },
  {
   "cell_type": "markdown",
   "id": "ebce38aa-11d0-4d62-ac1b-5d0acf8e3b42",
   "metadata": {},
   "source": [
    "Some of the commonly used libraries used by Data Scientists include:\n",
    "1. Pandas\n",
    "2. NumPy\n",
    "3. TensorFlow\n",
    "4. ggplot\n",
    "5. dplyr"
   ]
  },
  {
   "cell_type": "markdown",
   "id": "df56e308-1773-447d-aab4-f0517c675176",
   "metadata": {},
   "source": [
    "| Data Science Tools |\n",
    "| ------- |\n",
    "|Jupyter Notebook|\n",
    "|RStudio|\n",
    "|Apache Zeppelin|"
   ]
  },
  {
   "cell_type": "markdown",
   "id": "8994a6a9-9e5a-420b-aec2-84c3dd0a04b8",
   "metadata": {},
   "source": [
    "### Below are a few examples of evaluating arithmetic expressions in Python\n",
    "* 1+5\n",
    "* 2*11\n",
    "* 100-72"
   ]
  },
  {
   "cell_type": "code",
   "execution_count": 2,
   "id": "34dd235e-29f5-4fb0-89ad-3866c092beeb",
   "metadata": {
    "tags": []
   },
   "outputs": [
    {
     "data": {
      "text/plain": [
       "17"
      ]
     },
     "execution_count": 2,
     "metadata": {},
     "output_type": "execute_result"
    }
   ],
   "source": [
    "#This a simple arithmetic expression to mutiply then add integers.\n",
    "(3*4)+5"
   ]
  },
  {
   "cell_type": "code",
   "execution_count": 11,
   "id": "73759aa8-4551-4898-aa1c-81d91c596d59",
   "metadata": {
    "tags": []
   },
   "outputs": [
    {
     "data": {
      "text/plain": [
       "3.3333333333333335"
      ]
     },
     "execution_count": 11,
     "metadata": {},
     "output_type": "execute_result"
    }
   ],
   "source": [
    "#This will convert 200 minutes to hours by diving by 60.\n",
    "200/60"
   ]
  },
  {
   "cell_type": "markdown",
   "id": "af4ab425-6cdc-4e5d-94e0-82ebbfbc2de1",
   "metadata": {},
   "source": [
    "## Author\n",
    "Anna Erdősi"
   ]
  }
 ],
 "metadata": {
  "kernelspec": {
   "display_name": "Python",
   "language": "python",
   "name": "conda-env-python-py"
  },
  "language_info": {
   "codemirror_mode": {
    "name": "ipython",
    "version": 3
   },
   "file_extension": ".py",
   "mimetype": "text/x-python",
   "name": "python",
   "nbconvert_exporter": "python",
   "pygments_lexer": "ipython3",
   "version": "3.7.12"
  }
 },
 "nbformat": 4,
 "nbformat_minor": 5
}
